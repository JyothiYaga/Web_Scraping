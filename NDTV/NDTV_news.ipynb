{
 "cells": [
  {
   "cell_type": "code",
   "execution_count": 2,
   "id": "9cca8639",
   "metadata": {},
   "outputs": [
    {
     "name": "stdout",
     "output_type": "stream",
     "text": [
      "Waiting 2 minutes...\n",
      "Waiting 2 minutes...\n"
     ]
    },
    {
     "ename": "KeyboardInterrupt",
     "evalue": "",
     "output_type": "error",
     "traceback": [
      "\u001b[0;31m---------------------------------------------------------------------------\u001b[0m",
      "\u001b[0;31mKeyboardInterrupt\u001b[0m                         Traceback (most recent call last)",
      "Input \u001b[0;32mIn [2]\u001b[0m, in \u001b[0;36m<cell line: 49>\u001b[0;34m()\u001b[0m\n\u001b[1;32m     52\u001b[0m time_wait \u001b[38;5;241m=\u001b[39m \u001b[38;5;241m2\u001b[39m\n\u001b[1;32m     53\u001b[0m \u001b[38;5;28mprint\u001b[39m(\u001b[38;5;124mf\u001b[39m\u001b[38;5;124m'\u001b[39m\u001b[38;5;124mWaiting \u001b[39m\u001b[38;5;132;01m{\u001b[39;00mtime_wait\u001b[38;5;132;01m}\u001b[39;00m\u001b[38;5;124m minutes...\u001b[39m\u001b[38;5;124m'\u001b[39m)\n\u001b[0;32m---> 54\u001b[0m \u001b[43mtime\u001b[49m\u001b[38;5;241;43m.\u001b[39;49m\u001b[43msleep\u001b[49m\u001b[43m(\u001b[49m\u001b[43mtime_wait\u001b[49m\u001b[43m \u001b[49m\u001b[38;5;241;43m*\u001b[39;49m\u001b[43m \u001b[49m\u001b[38;5;241;43m60\u001b[39;49m\u001b[43m)\u001b[49m\n",
      "\u001b[0;31mKeyboardInterrupt\u001b[0m: "
     ]
    }
   ],
   "source": [
    "import csv\n",
    "import time\n",
    "from bs4 import BeautifulSoup\n",
    "import requests\n",
    "\n",
    "def find_careernews():\n",
    "    url = 'https://ndtv.in/career'\n",
    "    \n",
    "    try:\n",
    "        html_text = requests.get(url, timeout=10)\n",
    "        html_text.raise_for_status()  # Raise an error for bad status codes\n",
    "    except requests.exceptions.RequestException as e:\n",
    "        print(f\"Error fetching the URL: {e}\")\n",
    "        return\n",
    "\n",
    "    soup = BeautifulSoup(html_text.content, 'lxml')\n",
    "    news_items = soup.find_all('div', class_='news_Itm')\n",
    "\n",
    "    items_to_print = 4\n",
    "    processed_items = 0\n",
    "    news_iter = iter(news_items)\n",
    "\n",
    "    with open('ndtvcareer_news.csv', 'a', newline='', encoding='utf-8') as csvfile:\n",
    "        csv_writer = csv.writer(csvfile)\n",
    "        # Write headers only if the file is empty\n",
    "        if csvfile.tell() == 0:\n",
    "            csv_writer.writerow(['Posted On', 'Headline', 'Content', 'Link', 'Image Link'])\n",
    "\n",
    "        for news in news_iter:\n",
    "            try:\n",
    "                news_postedon = news.find('span', class_='posted-by').time.text\n",
    "                news_headline = news.find('h2', class_='newsHdng').text.strip()\n",
    "                news_content = news.find('p', class_='newsCont').text\n",
    "                news_link = news.find('h2', class_='newsHdng').a['href']\n",
    "\n",
    "                img_container = news.find('div', class_='news_Itm-img')\n",
    "                news_imgurl = img_container.find('img')['src'] if img_container else \"N/A\"\n",
    "\n",
    "                csv_writer.writerow([news_postedon, news_headline, news_content, news_link, news_imgurl])\n",
    "                processed_items += 1\n",
    "\n",
    "                if processed_items == items_to_print:\n",
    "                    break  # Exit loop after writing the required number of items\n",
    "\n",
    "            except AttributeError as e:\n",
    "                print(f\"Error processing a news item: {e}\")\n",
    "                continue\n",
    "\n",
    "if __name__ == '__main__':\n",
    "    while True:\n",
    "        find_careernews()\n",
    "        time_wait = 2\n",
    "        print(f'Waiting {time_wait} minutes...')\n",
    "        time.sleep(time_wait * 60)"
   ]
  },
  {
   "cell_type": "code",
   "execution_count": null,
   "id": "bd63370e",
   "metadata": {},
   "outputs": [],
   "source": []
  }
 ],
 "metadata": {
  "kernelspec": {
   "display_name": "Python 3 (ipykernel)",
   "language": "python",
   "name": "python3"
  },
  "language_info": {
   "codemirror_mode": {
    "name": "ipython",
    "version": 3
   },
   "file_extension": ".py",
   "mimetype": "text/x-python",
   "name": "python",
   "nbconvert_exporter": "python",
   "pygments_lexer": "ipython3",
   "version": "3.9.12"
  }
 },
 "nbformat": 4,
 "nbformat_minor": 5
}
